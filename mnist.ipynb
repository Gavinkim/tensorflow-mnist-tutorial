{
  "nbformat": 4,
  "nbformat_minor": 0,
  "metadata": {
    "colab": {
      "name": "mnist.ipynb",
      "provenance": [],
      "collapsed_sections": [],
      "authorship_tag": "ABX9TyNfKX35YlS2loiu04jyYZzn",
      "include_colab_link": true
    },
    "kernelspec": {
      "name": "python3",
      "display_name": "Python 3"
    },
    "accelerator": "GPU"
  },
  "cells": [
    {
      "cell_type": "markdown",
      "metadata": {
        "id": "view-in-github",
        "colab_type": "text"
      },
      "source": [
        "<a href=\"https://colab.research.google.com/github/Gavinkim/tensorflow-mnist-tutorial/blob/master/mnist.ipynb\" target=\"_parent\"><img src=\"https://colab.research.google.com/assets/colab-badge.svg\" alt=\"Open In Colab\"/></a>"
      ]
    },
    {
      "cell_type": "code",
      "metadata": {
        "id": "B4t-AoMHGkkM",
        "colab_type": "code",
        "outputId": "692a24de-7f65-4ba1-a656-ac287871c2fa",
        "colab": {
          "base_uri": "https://localhost:8080/",
          "height": 408
        }
      },
      "source": [
        "import tensorflow as tf\n",
        "from tensorflow.keras.models import Sequential\n",
        "from tensorflow.keras.layers import Dense, Flatten,Dropout\n",
        "\n",
        "\"\"\"\n",
        "minist 데이터를 로딩하여 트레이닝 데이터 와 테스트 데이터 세트로 구성한다\n",
        "모델 학습시 train 사용 > 입력: x_train 출력: y_train\n",
        "정확도 평가시 test 사용 > 입력: x_test 출력: y_test\n",
        "\"\"\"\n",
        "(x_train,y_train), (x_test,y_test) = tf.keras.datasets.mnist.load_data()\n",
        "\n",
        "\"\"\"\n",
        "해당 이미지 데이터는 0~255 사이의 값을 가지게 되기 때문에 normalize 해야 한다.\n",
        "해당 데이터를 0~1 사이의 값을 가지도록 변경이 필요\n",
        "\"\"\"\n",
        "x_train,x_test = x_train/255.0, x_test/255.0\n",
        "\n",
        "\"\"\"\n",
        "뉴럴 네트워크 구성\n",
        "input_layer=784,hidden_layer=128,output_layer=10 (0~9)\n",
        "\"\"\"\n",
        "model = Sequential([\n",
        "  Flatten(input_shape=(28,28)),\n",
        "  #활성화 함수로 relu 사용 why?\n",
        "  Dense(256, activation='relu'),\n",
        "  Dense(128,activation='relu'),\n",
        "  Dense(64, activation='relu'),\n",
        "  #오버피팅을 방지하기 위해 무작위로 이전 레이어의 출력을 20% 끄도록 한다.\n",
        "  Dropout(0.2),\n",
        "  #출력 레이어의 노드 개수는 10이며, softmax 를 활성화 함수로 사용\n",
        "  #softmax 를 사용시 출력값 간의 편차가 커져 분류하기 쉽게 된다.\n",
        "  Dense(10,activation='softmax'),\n",
        "])\n",
        "\n",
        "\"\"\"\n",
        "모델 컴파일\n",
        "optimizer > 경사하강법(Gradient Descent)을 개선 한것이다.\n",
        "경사하강법: 2차원일 경우 현재의 위치에서 현재 위치에서의 기울기를 빼서 에러가 최소화 되는 방향으로 위치를 이동\n",
        "손실함수(loss) > 크로스 엔트로피를 손실함수로 사용\n",
        "  모델의 출력이 one-hot 인코딩 되어 있을 경우 categorical_crossentropy 를 사용\n",
        "  모델의 출력이 정수라면 sparse_categorical_crossentropy 를 사용\n",
        "메트릭(metric) > 메트릭은 모델을 평가할때 사용되며, 여기서는 정확도로 설정.\n",
        "\"\"\"\n",
        "model.compile(\n",
        "    optimizer='adam',\n",
        "    loss='sparse_categorical_crossentropy',\n",
        "    metrics=['acc']\n",
        ")\n",
        "\"\"\"\n",
        "#모델 훈련\n",
        "#학습 데이터셋을 사용하여 모델을 10번 반복하여 훈련\n",
        "\"\"\"\n",
        "model.fit(x_train, y_train,epochs=10)\n",
        "\n",
        "#테스트 데이터셋을 사용하여 모델 평가\n",
        "\"\"\"\n",
        "실행시 손실(loss)은 감소하고, 정확도(acc) 는 커지는것을 볼 수 있다.\n",
        "학습이 완료 된 후 테스트 데이터를 사용하여 모델 평가\n",
        "\"\"\"\n",
        "print(\">>>> Evaluate >>>>\")\n",
        "model.evaluate(x_test,y_test,verbose=1)"
      ],
      "execution_count": 0,
      "outputs": [
        {
          "output_type": "stream",
          "text": [
            "Epoch 1/10\n",
            "1875/1875 [==============================] - 6s 3ms/step - loss: 0.2433 - acc: 0.9293\n",
            "Epoch 2/10\n",
            "1875/1875 [==============================] - 6s 3ms/step - loss: 0.1039 - acc: 0.9689\n",
            "Epoch 3/10\n",
            "1875/1875 [==============================] - 6s 3ms/step - loss: 0.0727 - acc: 0.9786\n",
            "Epoch 4/10\n",
            "1875/1875 [==============================] - 6s 3ms/step - loss: 0.0569 - acc: 0.9834\n",
            "Epoch 5/10\n",
            "1875/1875 [==============================] - 6s 3ms/step - loss: 0.0455 - acc: 0.9860\n",
            "Epoch 6/10\n",
            "1875/1875 [==============================] - 6s 3ms/step - loss: 0.0379 - acc: 0.9882\n",
            "Epoch 7/10\n",
            "1875/1875 [==============================] - 6s 3ms/step - loss: 0.0341 - acc: 0.9895\n",
            "Epoch 8/10\n",
            "1875/1875 [==============================] - 6s 3ms/step - loss: 0.0289 - acc: 0.9910\n",
            "Epoch 9/10\n",
            "1875/1875 [==============================] - 6s 3ms/step - loss: 0.0248 - acc: 0.9928\n",
            "Epoch 10/10\n",
            "1875/1875 [==============================] - 6s 3ms/step - loss: 0.0239 - acc: 0.9927\n",
            ">>>> Evaluate >>>>\n",
            "313/313 [==============================] - 1s 3ms/step - loss: 0.0862 - acc: 0.9803\n"
          ],
          "name": "stdout"
        },
        {
          "output_type": "execute_result",
          "data": {
            "text/plain": [
              "[0.08621665835380554, 0.9803000092506409]"
            ]
          },
          "metadata": {
            "tags": []
          },
          "execution_count": 13
        }
      ]
    },
    {
      "cell_type": "code",
      "metadata": {
        "id": "y_Qg1Q-2SH5z",
        "colab_type": "code",
        "outputId": "82eef413-956b-4e53-fd66-ab40306330dc",
        "colab": {
          "base_uri": "https://localhost:8080/",
          "height": 51
        }
      },
      "source": [
        "\n",
        "class_names = ['(0)Zero','(1)One','(2)Two','(3)Three','(4)Four','(5)Five','(6)Six','(7)Seven','(8)Eight','(9)Mine']\n",
        "img = x_test[95]\n",
        "label = y_test[95]\n",
        "print('label: ', class_names[label])\n",
        "import numpy as np\n",
        "img = np.expand_dims(img,0)\n",
        "predictions = model.predict(img)\n",
        "result = class_names[np.argmax(predictions)]\n",
        "print('predict result',result)"
      ],
      "execution_count": 0,
      "outputs": [
        {
          "output_type": "stream",
          "text": [
            "label:  (4)Four\n",
            "predict result (4)Four\n"
          ],
          "name": "stdout"
        }
      ]
    },
    {
      "cell_type": "code",
      "metadata": {
        "id": "xdxqNNzXS3Sr",
        "colab_type": "code",
        "colab": {}
      },
      "source": [
        ""
      ],
      "execution_count": 0,
      "outputs": []
    }
  ]
}